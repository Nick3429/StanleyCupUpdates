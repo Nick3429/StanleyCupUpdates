{
 "cells": [
  {
   "cell_type": "markdown",
   "id": "70fea2c0",
   "metadata": {},
   "source": [
    "This jupyter notebook Makes an api request for each playoff team to get their team roster, and then gets each team roster into respective dataframes, csv files, and then an overall roster file that ultimately contains every player in the 2024-2025 NHL Playoffs. This will be very handy."
   ]
  },
  {
   "cell_type": "code",
   "execution_count": 1,
   "id": "9512959f",
   "metadata": {},
   "outputs": [],
   "source": [
    "import pandas as pd \n",
    "import requests"
   ]
  },
  {
   "cell_type": "code",
   "execution_count": 2,
   "id": "00a1223f",
   "metadata": {},
   "outputs": [],
   "source": [
    "#Getting the json Data for each team\n",
    "WPG_response=requests.get(\"https://api-web.nhle.com/v1/roster/WPG/20242025\")\n",
    "STL_response=requests.get(\"https://api-web.nhle.com/v1/roster/STL/20242025\")\n",
    "COL_response=requests.get(\"https://api-web.nhle.com/v1/roster/COL/20242025\")\n",
    "DAL_response=requests.get(\"https://api-web.nhle.com/v1/roster/DAL/20242025\")\n",
    "VGK_response=requests.get(\"https://api-web.nhle.com/v1/roster/VGK/20242025\")\n",
    "MIN_response=requests.get(\"https://api-web.nhle.com/v1/roster/MIN/20242025\")\n",
    "LAK_response=requests.get(\"https://api-web.nhle.com/v1/roster/LAK/20242025\")\n",
    "EDM_response=requests.get(\"https://api-web.nhle.com/v1/roster/EDM/20242025\")\n",
    "TOR_response=requests.get(\"https://api-web.nhle.com/v1/roster/TOR/20242025\")\n",
    "OTT_response=requests.get(\"https://api-web.nhle.com/v1/roster/OTT/20242025\")\n",
    "TBL_response=requests.get(\"https://api-web.nhle.com/v1/roster/TBL/20242025\")\n",
    "FLA_response=requests.get(\"https://api-web.nhle.com/v1/roster/FLA/20242025\")\n",
    "WSH_response=requests.get(\"https://api-web.nhle.com/v1/roster/WSH/20242025\")\n",
    "MTL_response=requests.get(\"https://api-web.nhle.com/v1/roster/MTL/20242025\")\n",
    "CAR_response=requests.get(\"https://api-web.nhle.com/v1/roster/CAR/20242025\")\n",
    "NJD_response=requests.get(\"https://api-web.nhle.com/v1/roster/NJD/20242025\")"
   ]
  },
  {
   "cell_type": "code",
   "execution_count": 3,
   "id": "c1c4c0f4",
   "metadata": {},
   "outputs": [],
   "source": [
    "WPG_data=WPG_response.json()\n",
    "STL_data=STL_response.json()\n",
    "COL_data=COL_response.json()\n",
    "DAL_data=DAL_response.json()\n",
    "VGK_data=VGK_response.json()\n",
    "MIN_data=MTL_response.json()\n",
    "LAK_data=LAK_response.json()\n",
    "EDM_data=EDM_response.json()\n",
    "TOR_data=TOR_response.json()\n",
    "OTT_data=OTT_response.json()\n",
    "TBL_data=TBL_response.json()\n",
    "FLA_data=FLA_response.json()\n",
    "WSH_data=WSH_response.json()\n",
    "MTL_data=MTL_response.json()\n",
    "CAR_data=CAR_response.json()\n",
    "NJD_data=NJD_response.json()"
   ]
  },
  {
   "cell_type": "code",
   "execution_count": 4,
   "id": "fa6003fb",
   "metadata": {},
   "outputs": [],
   "source": [
    "# List of team abbreviations for playoff teams\n",
    "teams = [\"WPG\", \"STL\", \"COL\", \"DAL\", \"VGK\", \"MIN\", \"LAK\", \"EDM\", \"TOR\", \"OTT\", \"TBL\", \"FLA\", \"WSH\", \"MTL\", \"CAR\", \"NJD\"]\n",
    "\n",
    "# Define the season\n",
    "season = \"20242025\"\n",
    "\n",
    "# Function to get and flatten a team's roster\n",
    "def get_team_roster(team_abbr, season):\n",
    "    url = f\"https://api-web.nhle.com/v1/roster/{team_abbr}/{season}\"\n",
    "    response = requests.get(url)\n",
    "    data = response.json()\n",
    "\n",
    "    all_players = []\n",
    "\n",
    "    for position in ['forwards', 'defensemen', 'goalies']:\n",
    "        for player in data.get(position, []):\n",
    "            flat_player = {\n",
    "                'team': team_abbr,\n",
    "                'id': player.get('id'),\n",
    "                'headshot': player.get('headshot'),\n",
    "                'firstName': player.get('firstName', {}).get('default'),\n",
    "                'lastName': player.get('lastName', {}).get('default'),\n",
    "                'sweaterNumber': player.get('sweaterNumber'),\n",
    "                'positionCode': player.get('positionCode'),\n",
    "                'shootsCatches': player.get('shootsCatches'),\n",
    "                'heightInInches': player.get('heightInInches'),\n",
    "                'weightInPounds': player.get('weightInPounds'),\n",
    "                'heightInCentimeters': player.get('heightInCentimeters'),\n",
    "                'weightInKilograms': player.get('weightInKilograms'),\n",
    "                'birthDate': player.get('birthDate'),\n",
    "                'birthCity': player.get('birthCity', {}).get('default'),\n",
    "                'birthStateProvince': player.get('birthStateProvince', {}).get('default') if 'birthStateProvince' in player else None,\n",
    "                'birthCountry': player.get('birthCountry')\n",
    "            }\n",
    "            all_players.append(flat_player)\n",
    "\n",
    "    return pd.DataFrame(all_players)\n"
   ]
  },
  {
   "cell_type": "code",
   "execution_count": 5,
   "id": "ad5961f3",
   "metadata": {},
   "outputs": [],
   "source": [
    "# Loop through all teams and collect their rosters\n",
    "roster_dfs = []\n",
    "for team in teams:\n",
    "    team_df = get_team_roster(team, season)\n",
    "    roster_dfs.append(team_df)\n",
    "    team_df.to_csv(f\"{team}_roster.csv\", index=False)  # Save each team’s roster\n",
    "\n",
    "# Concatenate all teams into one big dataframe\n",
    "overall_roster = pd.concat(roster_dfs, ignore_index=True)\n",
    "\n",
    "# Save the overall roster\n",
    "overall_roster.to_csv(\"overall_roster.csv\", index=False)\n"
   ]
  },
  {
   "cell_type": "code",
   "execution_count": 6,
   "id": "67e4571e",
   "metadata": {},
   "outputs": [],
   "source": [
    "from datetime import datetime, timedelta"
   ]
  },
  {
   "cell_type": "code",
   "execution_count": 9,
   "id": "0988063b",
   "metadata": {},
   "outputs": [],
   "source": [
    "def get_today_date():\n",
    "    today=datetime.now()\n",
    "    return today.strftime(\"%Y-%m-%d\") #Format YYYY-MM-DD\n",
    "\n",
    "def get_yesterday_date():\n",
    "    yesterday = datetime.now() - timedelta(days=1)\n",
    "    return yesterday.strftime(\"%Y-%m-%d\") #Format YYYY-MM-DD\n",
    "\n"
   ]
  },
  {
   "cell_type": "code",
   "execution_count": 10,
   "id": "09c237bb",
   "metadata": {},
   "outputs": [
    {
     "data": {
      "text/plain": [
       "'2025-04-19'"
      ]
     },
     "execution_count": 10,
     "metadata": {},
     "output_type": "execute_result"
    }
   ],
   "source": [
    "get_today_date()"
   ]
  },
  {
   "cell_type": "code",
   "execution_count": 11,
   "id": "fc1e3dd1",
   "metadata": {},
   "outputs": [],
   "source": [
    "date_today=get_today_date()\n",
    "nhl_games_url=f\"https://api-web.nhle.com/v1/score/{date_today}\"\n",
    "response=requests.get(nhl_games_url)\n",
    "data=response.json()"
   ]
  },
  {
   "cell_type": "code",
   "execution_count": 13,
   "id": "54dec7e7",
   "metadata": {},
   "outputs": [
    {
     "data": {
      "text/plain": [
       "{'id': 2024030151,\n",
       " 'season': 20242025,\n",
       " 'gameType': 3,\n",
       " 'gameDate': '2025-04-19',\n",
       " 'venue': {'default': 'Canada Life Centre'},\n",
       " 'startTimeUTC': '2025-04-19T22:00:00Z',\n",
       " 'easternUTCOffset': '-04:00',\n",
       " 'venueUTCOffset': '-05:00',\n",
       " 'tvBroadcasts': [{'id': 385,\n",
       "   'market': 'N',\n",
       "   'countryCode': 'US',\n",
       "   'network': 'TNT',\n",
       "   'sequenceNumber': 11},\n",
       "  {'id': 501,\n",
       "   'market': 'N',\n",
       "   'countryCode': 'US',\n",
       "   'network': 'truTV',\n",
       "   'sequenceNumber': 14},\n",
       "  {'id': 519,\n",
       "   'market': 'N',\n",
       "   'countryCode': 'US',\n",
       "   'network': 'MAX',\n",
       "   'sequenceNumber': 18},\n",
       "  {'id': 4,\n",
       "   'market': 'N',\n",
       "   'countryCode': 'CA',\n",
       "   'network': 'CBC',\n",
       "   'sequenceNumber': 25},\n",
       "  {'id': 282,\n",
       "   'market': 'N',\n",
       "   'countryCode': 'CA',\n",
       "   'network': 'SN',\n",
       "   'sequenceNumber': 101},\n",
       "  {'id': 281,\n",
       "   'market': 'N',\n",
       "   'countryCode': 'CA',\n",
       "   'network': 'TVAS',\n",
       "   'sequenceNumber': 109},\n",
       "  {'id': 566,\n",
       "   'market': 'A',\n",
       "   'countryCode': 'US',\n",
       "   'network': 'FDSNMW',\n",
       "   'sequenceNumber': 273}],\n",
       " 'gameState': 'FUT',\n",
       " 'gameScheduleState': 'OK',\n",
       " 'awayTeam': {'id': 19,\n",
       "  'name': {'default': 'Blues'},\n",
       "  'abbrev': 'STL',\n",
       "  'record': '44-30-8',\n",
       "  'logo': 'https://assets.nhle.com/logos/nhl/svg/STL_light.svg',\n",
       "  'odds': [{'providerId': 9, 'value': '+154'},\n",
       "   {'providerId': 3, 'value': '2.64'},\n",
       "   {'providerId': 7, 'value': '+162'},\n",
       "   {'providerId': 8, 'value': '+164'}]},\n",
       " 'homeTeam': {'id': 52,\n",
       "  'name': {'default': 'Jets'},\n",
       "  'abbrev': 'WPG',\n",
       "  'record': '56-22-4',\n",
       "  'logo': 'https://assets.nhle.com/logos/nhl/svg/WPG_light.svg',\n",
       "  'odds': [{'providerId': 9, 'value': '-185'},\n",
       "   {'providerId': 3, 'value': '1.49'},\n",
       "   {'providerId': 7, 'value': '-196'},\n",
       "   {'providerId': 8, 'value': '-198'}]},\n",
       " 'seriesStatus': {'round': 1,\n",
       "  'seriesAbbrev': 'R1',\n",
       "  'seriesTitle': '1st Round',\n",
       "  'seriesLetter': 'E',\n",
       "  'neededToWin': 4,\n",
       "  'topSeedTeamAbbrev': 'WPG',\n",
       "  'topSeedWins': 0,\n",
       "  'bottomSeedTeamAbbrev': 'STL',\n",
       "  'bottomSeedWins': 0,\n",
       "  'gameNumberOfSeries': 1},\n",
       " 'gameCenterLink': '/gamecenter/stl-vs-wpg/2025/04/19/2024030151',\n",
       " 'seriesUrl': '/schedule/playoff-series/2025/series-e/jets-vs-blues',\n",
       " 'neutralSite': False,\n",
       " 'venueTimezone': 'America/Winnipeg',\n",
       " 'ticketsLink': 'https://www.nhl.com/jets/tickets/',\n",
       " 'ticketsLinkFr': 'https://www.nhl.com/jets/tickets/',\n",
       " 'teamLeaders': [{'id': 8479385,\n",
       "   'firstName': {'default': 'Jordan'},\n",
       "   'lastName': {'default': 'Kyrou'},\n",
       "   'headshot': 'https://assets.nhle.com/mugs/nhl/20242025/STL/8479385.png',\n",
       "   'teamAbbrev': 'STL',\n",
       "   'sweaterNumber': 25,\n",
       "   'position': 'R',\n",
       "   'category': 'goals',\n",
       "   'value': 36},\n",
       "  {'id': 8478398,\n",
       "   'firstName': {'default': 'Kyle'},\n",
       "   'lastName': {'default': 'Connor'},\n",
       "   'headshot': 'https://assets.nhle.com/mugs/nhl/20242025/WPG/8478398.png',\n",
       "   'teamAbbrev': 'WPG',\n",
       "   'sweaterNumber': 81,\n",
       "   'position': 'L',\n",
       "   'category': 'goals',\n",
       "   'value': 41},\n",
       "  {'id': 8480023,\n",
       "   'firstName': {'default': 'Robert'},\n",
       "   'lastName': {'default': 'Thomas'},\n",
       "   'headshot': 'https://assets.nhle.com/mugs/nhl/20242025/STL/8480023.png',\n",
       "   'teamAbbrev': 'STL',\n",
       "   'sweaterNumber': 18,\n",
       "   'position': 'C',\n",
       "   'category': 'assists',\n",
       "   'value': 60},\n",
       "  {'id': 8478398,\n",
       "   'firstName': {'default': 'Kyle'},\n",
       "   'lastName': {'default': 'Connor'},\n",
       "   'headshot': 'https://assets.nhle.com/mugs/nhl/20242025/WPG/8478398.png',\n",
       "   'teamAbbrev': 'WPG',\n",
       "   'sweaterNumber': 81,\n",
       "   'position': 'L',\n",
       "   'category': 'assists',\n",
       "   'value': 56},\n",
       "  {'id': 8476412,\n",
       "   'firstName': {'default': 'Jordan'},\n",
       "   'lastName': {'default': 'Binnington'},\n",
       "   'headshot': 'https://assets.nhle.com/mugs/nhl/20242025/STL/8476412.png',\n",
       "   'teamAbbrev': 'STL',\n",
       "   'sweaterNumber': 50,\n",
       "   'position': 'G',\n",
       "   'category': 'wins',\n",
       "   'value': 28},\n",
       "  {'id': 8476945,\n",
       "   'firstName': {'default': 'Connor'},\n",
       "   'lastName': {'default': 'Hellebuyck'},\n",
       "   'headshot': 'https://assets.nhle.com/mugs/nhl/20242025/WPG/8476945.png',\n",
       "   'teamAbbrev': 'WPG',\n",
       "   'sweaterNumber': 37,\n",
       "   'position': 'G',\n",
       "   'category': 'wins',\n",
       "   'value': 47}]}"
      ]
     },
     "execution_count": 13,
     "metadata": {},
     "output_type": "execute_result"
    }
   ],
   "source": [
    "# Get the first game (you can loop through `data['games']` if there are multiple)\n",
    "game = data['games'][0]\n",
    "game"
   ]
  },
  {
   "cell_type": "code",
   "execution_count": 15,
   "id": "364a8fe7",
   "metadata": {},
   "outputs": [
    {
     "data": {
      "text/plain": [
       "'Canada Life Centre'"
      ]
     },
     "execution_count": 15,
     "metadata": {},
     "output_type": "execute_result"
    }
   ],
   "source": [
    "# 1. Venue\n",
    "venue = game['venue']['default']\n",
    "venue"
   ]
  },
  {
   "cell_type": "code",
   "execution_count": null,
   "id": "ac1e7ca7",
   "metadata": {},
   "outputs": [],
   "source": [
    "# 2. TV Broadcast with id 385\n",
    "tv_broadcast = next((b for b in game['tvBroadcasts'] if b['id'] == 385), None)\n",
    "if tv_broadcast:\n",
    "    country_code = tv_broadcast['countryCode']\n",
    "    network = tv_broadcast['network']\n",
    "else:\n",
    "    country_code = network = None\n"
   ]
  },
  {
   "cell_type": "code",
   "execution_count": 18,
   "id": "911a809a",
   "metadata": {},
   "outputs": [
    {
     "data": {
      "text/plain": [
       "'TNT'"
      ]
     },
     "execution_count": 18,
     "metadata": {},
     "output_type": "execute_result"
    }
   ],
   "source": [
    "#The tv broadcast\n",
    "tv_broadcast['network']"
   ]
  },
  {
   "cell_type": "code",
   "execution_count": 24,
   "id": "f4def9dd",
   "metadata": {},
   "outputs": [],
   "source": [
    "# 3. Away team details\n",
    "away_team = game['awayTeam']\n",
    "away_team_name = f\"{away_team['abbrev']} {away_team['name']['default']}\"\n",
    "away_team_record = away_team['record']\n",
    "away_team_odds = next((o['value'] for o in away_team['odds'] if o['providerId'] == 9), None)"
   ]
  },
  {
   "cell_type": "code",
   "execution_count": 25,
   "id": "e305be2d",
   "metadata": {},
   "outputs": [
    {
     "data": {
      "text/plain": [
       "'STL Blues'"
      ]
     },
     "execution_count": 25,
     "metadata": {},
     "output_type": "execute_result"
    }
   ],
   "source": [
    "away_team_name"
   ]
  },
  {
   "cell_type": "code",
   "execution_count": 26,
   "id": "5cc3e746",
   "metadata": {},
   "outputs": [
    {
     "data": {
      "text/plain": [
       "'44-30-8'"
      ]
     },
     "execution_count": 26,
     "metadata": {},
     "output_type": "execute_result"
    }
   ],
   "source": [
    "away_team_record"
   ]
  },
  {
   "cell_type": "code",
   "execution_count": 27,
   "id": "0ce48c3b",
   "metadata": {},
   "outputs": [
    {
     "data": {
      "text/plain": [
       "'+154'"
      ]
     },
     "execution_count": 27,
     "metadata": {},
     "output_type": "execute_result"
    }
   ],
   "source": [
    "away_team_odds"
   ]
  },
  {
   "cell_type": "code",
   "execution_count": 28,
   "id": "a0951441",
   "metadata": {},
   "outputs": [],
   "source": [
    "# 6. Team leaders\n",
    "team_leaders = game['teamLeaders']"
   ]
  },
  {
   "cell_type": "code",
   "execution_count": 30,
   "id": "5642cd9c",
   "metadata": {},
   "outputs": [
    {
     "name": "stdout",
     "output_type": "stream",
     "text": [
      "{'Name': 'Jordan Kyrou', 'Team': 'STL', 'Number': 25, 'Position': 'R', 'Category': 'goals', 'Value': 36}\n",
      "{'Name': 'Kyle Connor', 'Team': 'WPG', 'Number': 81, 'Position': 'L', 'Category': 'goals', 'Value': 41}\n",
      "{'Name': 'Robert Thomas', 'Team': 'STL', 'Number': 18, 'Position': 'C', 'Category': 'assists', 'Value': 60}\n",
      "{'Name': 'Kyle Connor', 'Team': 'WPG', 'Number': 81, 'Position': 'L', 'Category': 'assists', 'Value': 56}\n",
      "{'Name': 'Jordan Binnington', 'Team': 'STL', 'Number': 50, 'Position': 'G', 'Category': 'wins', 'Value': 28}\n",
      "{'Name': 'Connor Hellebuyck', 'Team': 'WPG', 'Number': 37, 'Position': 'G', 'Category': 'wins', 'Value': 47}\n"
     ]
    }
   ],
   "source": [
    "for leader in team_leaders:\n",
    "    print({\n",
    "        \"Name\": f\"{leader['firstName']['default']} {leader['lastName']['default']}\",\n",
    "        \"Team\": leader['teamAbbrev'],\n",
    "        \"Number\": leader['sweaterNumber'],\n",
    "        \"Position\": leader['position'],\n",
    "        \"Category\": leader['category'],\n",
    "        \"Value\": leader['value'],\n",
    "    })"
   ]
  },
  {
   "cell_type": "code",
   "execution_count": 35,
   "id": "0dea0a52",
   "metadata": {},
   "outputs": [],
   "source": [
    "game_ids = [game[\"id\"] for game in data[\"games\"]]"
   ]
  },
  {
   "cell_type": "code",
   "execution_count": 36,
   "id": "e4b66a75",
   "metadata": {},
   "outputs": [
    {
     "data": {
      "text/plain": [
       "[2024030151, 2024030161]"
      ]
     },
     "execution_count": 36,
     "metadata": {},
     "output_type": "execute_result"
    }
   ],
   "source": [
    "game_ids"
   ]
  },
  {
   "cell_type": "code",
   "execution_count": 47,
   "id": "35ed79ca",
   "metadata": {},
   "outputs": [
    {
     "data": {
      "text/plain": [
       "2"
      ]
     },
     "execution_count": 47,
     "metadata": {},
     "output_type": "execute_result"
    }
   ],
   "source": [
    "len(game_ids)"
   ]
  },
  {
   "cell_type": "code",
   "execution_count": 54,
   "id": "849d31a2",
   "metadata": {},
   "outputs": [],
   "source": [
    "games_info={}\n",
    "\n",
    "for i, game in enumerate(data.get(\"games\", []), start=1):\n",
    "    game_data = {}\n",
    "\n",
    "    # 1. Venue\n",
    "    game_data[\"venue\"] = game.get(\"venue\", {}).get(\"default\", None)\n",
    "\n",
    "    # 2. TV Broadcast (id == 385)\n",
    "    broadcast_385 = next((b for b in game.get(\"tvBroadcasts\", []) if b[\"id\"] == 385), {})\n",
    "    game_data[\"tv_country_code\"] = broadcast_385.get(\"countryCode\")\n",
    "    game_data[\"tv_network\"] = broadcast_385.get(\"network\")\n",
    "\n",
    "    # 3. Away Team Info\n",
    "    away_team = game.get(\"awayTeam\", {})\n",
    "    game_data[\"away_team_name\"] = away_team.get(\"name\", {}).get(\"default\")\n",
    "    game_data[\"away_team_record\"] = away_team.get(\"record\")\n",
    "    odds_away = next((o for o in away_team.get(\"odds\", []) if o[\"providerId\"] == 9), {})\n",
    "    game_data[\"away_team_odds\"] = odds_away.get(\"value\")\n",
    "\n",
    "    # 4. Home Team Info\n",
    "    home_team = game.get(\"homeTeam\", {})\n",
    "    game_data[\"home_team_name\"] = home_team.get(\"name\", {}).get(\"default\")\n",
    "    game_data[\"home_team_record\"] = home_team.get(\"record\")\n",
    "    odds_home = next((o for o in home_team.get(\"odds\", []) if o[\"providerId\"] == 9), {})\n",
    "    game_data[\"home_team_odds\"] = odds_home.get(\"value\")\n",
    "\n",
    "    # 5. Series Status\n",
    "    game_data[\"series_status\"] = game.get(\"seriesStatus\", {})\n",
    "\n",
    "    # 6. Team Leaders\n",
    "    game_data[\"team_leaders\"] = game.get(\"teamLeaders\", [])\n",
    "\n",
    "    # Store each game in the dictionary using a dynamic key\n",
    "    games_info[f\"game_{i}\"] = game_data\n"
   ]
  },
  {
   "cell_type": "code",
   "execution_count": 55,
   "id": "950ba6b1",
   "metadata": {},
   "outputs": [
    {
     "data": {
      "text/plain": [
       "'Jets'"
      ]
     },
     "execution_count": 55,
     "metadata": {},
     "output_type": "execute_result"
    }
   ],
   "source": [
    "games_info['game_1']['home_team_name']"
   ]
  },
  {
   "cell_type": "code",
   "execution_count": 57,
   "id": "afca8e97",
   "metadata": {},
   "outputs": [
    {
     "data": {
      "text/plain": [
       "[{'id': 8479385,\n",
       "  'firstName': {'default': 'Jordan'},\n",
       "  'lastName': {'default': 'Kyrou'},\n",
       "  'headshot': 'https://assets.nhle.com/mugs/nhl/20242025/STL/8479385.png',\n",
       "  'teamAbbrev': 'STL',\n",
       "  'sweaterNumber': 25,\n",
       "  'position': 'R',\n",
       "  'category': 'goals',\n",
       "  'value': 36},\n",
       " {'id': 8478398,\n",
       "  'firstName': {'default': 'Kyle'},\n",
       "  'lastName': {'default': 'Connor'},\n",
       "  'headshot': 'https://assets.nhle.com/mugs/nhl/20242025/WPG/8478398.png',\n",
       "  'teamAbbrev': 'WPG',\n",
       "  'sweaterNumber': 81,\n",
       "  'position': 'L',\n",
       "  'category': 'goals',\n",
       "  'value': 41},\n",
       " {'id': 8480023,\n",
       "  'firstName': {'default': 'Robert'},\n",
       "  'lastName': {'default': 'Thomas'},\n",
       "  'headshot': 'https://assets.nhle.com/mugs/nhl/20242025/STL/8480023.png',\n",
       "  'teamAbbrev': 'STL',\n",
       "  'sweaterNumber': 18,\n",
       "  'position': 'C',\n",
       "  'category': 'assists',\n",
       "  'value': 60},\n",
       " {'id': 8478398,\n",
       "  'firstName': {'default': 'Kyle'},\n",
       "  'lastName': {'default': 'Connor'},\n",
       "  'headshot': 'https://assets.nhle.com/mugs/nhl/20242025/WPG/8478398.png',\n",
       "  'teamAbbrev': 'WPG',\n",
       "  'sweaterNumber': 81,\n",
       "  'position': 'L',\n",
       "  'category': 'assists',\n",
       "  'value': 56},\n",
       " {'id': 8476412,\n",
       "  'firstName': {'default': 'Jordan'},\n",
       "  'lastName': {'default': 'Binnington'},\n",
       "  'headshot': 'https://assets.nhle.com/mugs/nhl/20242025/STL/8476412.png',\n",
       "  'teamAbbrev': 'STL',\n",
       "  'sweaterNumber': 50,\n",
       "  'position': 'G',\n",
       "  'category': 'wins',\n",
       "  'value': 28},\n",
       " {'id': 8476945,\n",
       "  'firstName': {'default': 'Connor'},\n",
       "  'lastName': {'default': 'Hellebuyck'},\n",
       "  'headshot': 'https://assets.nhle.com/mugs/nhl/20242025/WPG/8476945.png',\n",
       "  'teamAbbrev': 'WPG',\n",
       "  'sweaterNumber': 37,\n",
       "  'position': 'G',\n",
       "  'category': 'wins',\n",
       "  'value': 47}]"
      ]
     },
     "execution_count": 57,
     "metadata": {},
     "output_type": "execute_result"
    }
   ],
   "source": [
    "games_info['game_1']['team_leaders']"
   ]
  },
  {
   "cell_type": "code",
   "execution_count": 51,
   "id": "71e6364c",
   "metadata": {},
   "outputs": [],
   "source": [
    "def get_today_date():\n",
    "    today=datetime.now()\n",
    "    return today.strftime(\"%Y-%m-%d\") #Format YYYY-MM-DD"
   ]
  },
  {
   "cell_type": "code",
   "execution_count": 52,
   "id": "4bf95f36",
   "metadata": {},
   "outputs": [],
   "source": [
    "def get_numberof_games(date):\n",
    "    date_today=get_today_date()\n",
    "    nhl_games_url=f\"https://api-web.nhle.com/v1/score/{date_today}\"\n",
    "    response=requests.get(nhl_games_url)\n",
    "    data=response.json()\n",
    "    game_ids = [game[\"id\"] for game in data[\"games\"]]\n",
    "    num_games=len(game_ids)\n",
    "    return num_games"
   ]
  },
  {
   "cell_type": "code",
   "execution_count": 53,
   "id": "3ce2a2dd",
   "metadata": {},
   "outputs": [
    {
     "data": {
      "text/plain": [
       "2"
      ]
     },
     "execution_count": 53,
     "metadata": {},
     "output_type": "execute_result"
    }
   ],
   "source": [
    "get_numberof_games(get_today_date())"
   ]
  },
  {
   "cell_type": "code",
   "execution_count": 60,
   "id": "1f51ad7a",
   "metadata": {},
   "outputs": [
    {
     "data": {
      "text/plain": [
       "{'round': 1,\n",
       " 'seriesAbbrev': 'R1',\n",
       " 'seriesTitle': '1st Round',\n",
       " 'seriesLetter': 'E',\n",
       " 'neededToWin': 4,\n",
       " 'topSeedTeamAbbrev': 'WPG',\n",
       " 'topSeedWins': 0,\n",
       " 'bottomSeedTeamAbbrev': 'STL',\n",
       " 'bottomSeedWins': 0,\n",
       " 'gameNumberOfSeries': 1}"
      ]
     },
     "execution_count": 60,
     "metadata": {},
     "output_type": "execute_result"
    }
   ],
   "source": [
    "games_info['game_1']['series_status']"
   ]
  },
  {
   "cell_type": "code",
   "execution_count": 59,
   "id": "6064f4b3",
   "metadata": {},
   "outputs": [
    {
     "data": {
      "text/plain": [
       "{}"
      ]
     },
     "execution_count": 59,
     "metadata": {},
     "output_type": "execute_result"
    }
   ],
   "source": []
  }
 ],
 "metadata": {
  "kernelspec": {
   "display_name": "SCenv",
   "language": "python",
   "name": "python3"
  },
  "language_info": {
   "codemirror_mode": {
    "name": "ipython",
    "version": 3
   },
   "file_extension": ".py",
   "mimetype": "text/x-python",
   "name": "python",
   "nbconvert_exporter": "python",
   "pygments_lexer": "ipython3",
   "version": "3.11.4"
  }
 },
 "nbformat": 4,
 "nbformat_minor": 5
}
